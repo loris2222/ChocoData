{
 "cells": [
  {
   "cell_type": "markdown",
   "id": "d00f620b",
   "metadata": {},
   "source": [
    "# Companies and Chocostats\n",
    "\n",
    "In this notebook I will explore the data contained into the [Chocolate Bar Ratings](https://www.kaggle.com/rtatman/chocolate-bar-ratings) dataset. \n",
    "\n",
    "Firstly, I will compute the statistics regarding the companies, and then regarding the chocolate and the chocolate types."
   ]
  },
  {
   "cell_type": "markdown",
   "id": "40628ea0",
   "metadata": {},
   "source": [
    "### Preliminary setup\n",
    "\n",
    "To begin, import the needed libraries, load the dataset and fix it a little"
   ]
  },
  {
   "cell_type": "code",
   "execution_count": 1,
   "id": "c5e56d55",
   "metadata": {},
   "outputs": [],
   "source": [
    "import os\n",
    "import webbrowser\n",
    "\n",
    "import pandas as pd\n",
    "import matplotlib.pyplot as plt\n",
    "import seaborn as sns"
   ]
  },
  {
   "cell_type": "code",
   "execution_count": 2,
   "id": "d6d44ccf",
   "metadata": {},
   "outputs": [],
   "source": [
    "# Load the dataset\n",
    "dataset_path = os.path.join(os.getcwd(), \"../data/flavors_of_cacao.csv\")\n",
    "chocodata = pd.read_csv(dataset_path)\n",
    "\n",
    "# Rename the columns to better manage them\n",
    "new_colnames = ['company', 'bean_origin', 'ref', 'review_date', 'cocoa_percent',\n",
    "                'company_location', 'rating', 'bean_type', 'bean_origin']\n",
    "chocodata = chocodata.rename(columns=dict(zip(chocodata.columns, new_colnames)))"
   ]
  },
  {
   "cell_type": "markdown",
   "id": "6e7c4e27",
   "metadata": {},
   "source": [
    "### Companies"
   ]
  },
  {
   "cell_type": "code",
   "execution_count": 3,
   "id": "f517e961",
   "metadata": {},
   "outputs": [],
   "source": [
    "# Get a list of all the unique values of the company column (that are overall 416)\n",
    "companies = chocodata.company.unique()\n",
    "\n",
    "# Get a list of all the unique values of the company_location column (that are overall 60)\n",
    "countries = chocodata.company_location.unique()"
   ]
  },
  {
   "cell_type": "markdown",
   "id": "f28653ec",
   "metadata": {},
   "source": [
    "#### Computing the ten better companies in terms of average grades"
   ]
  },
  {
   "cell_type": "code",
   "execution_count": 4,
   "id": "08e7cbc8",
   "metadata": {},
   "outputs": [],
   "source": [
    "# Create a dataframe in which to save the companies and their average evaluations\n",
    "d = {'company': [],\n",
    "     'avg_rating': []}\n",
    "avg_companies = pd.DataFrame(d)\n",
    "\n",
    "# Foreach company save its average evaluation in a dataframe\n",
    "for c in companies:\n",
    "    company = chocodata[chocodata.company == c]\n",
    "    mean_rating = company['rating'].mean()\n",
    "    d = pd.DataFrame(\n",
    "        {'company': [c],\n",
    "         'avg_rating': [mean_rating]})\n",
    "    tmp = [avg_companies, d]\n",
    "    avg_companies = pd.concat(tmp)\n",
    "\n",
    "# Extract the ten better companies in term of average chocolate rating\n",
    "ten_better_companies = avg_companies.nlargest(10, columns=['avg_rating'])"
   ]
  },
  {
   "cell_type": "code",
   "execution_count": 5,
   "id": "6437fd21",
   "metadata": {},
   "outputs": [
    {
     "data": {
      "text/plain": "<Figure size 432x288 with 1 Axes>",
      "image/png": "[encoded data removed]"
     },
     "metadata": {},
     "output_type": "display_data"
    }
   ],
   "source": [
    "# Plot them through a horizontal barplot\n",
    "sns.set_theme(style='whitegrid')\n",
    "\n",
    "ax = sns.barplot(data=ten_better_companies, x='avg_rating', y='company')\n",
    "ax.set(xlabel='Average Bar Rating', ylabel='Company')\n",
    "\n",
    "plt.savefig('images/best_companies.pdf')"
   ]
  },
  {
   "cell_type": "markdown",
   "id": "ca2bce60",
   "metadata": {},
   "source": [
    "#### Computing the best company for each country of the database\n",
    "\n",
    "TODO: this does not work as it should; I need to find a way to clear the ```avg_companies``` DataFrame before the following execution of the outer ```for``` loop.\n",
    "\n",
    "The problem is that, not cleaning up the ```avg_companies``` DataFrame, it continously keeps all the companies, saving them the higher among all (and not among only the ones of the actual country). "
   ]
  },
  {
   "cell_type": "code",
   "execution_count": 9,
   "id": "d621c6a0",
   "metadata": {},
   "outputs": [
    {
     "data": {
      "text/plain": "             country                          best_company  avg_rating\n0          Amsterdam                      Chocolate Makers    3.500000\n0          Argentina                               Salgado    3.500000\n0          Australia                                Matale    3.812500\n0            Austria                                Zotter    3.308824\n0            Belgium                         Benoit Nihant    3.708333\n0            Bolivia                              El Ceibo    3.250000\n0             Brazil                               Mission    3.625000\n0             Canada          Christopher Morel (Felchlin)    3.750000\n0              Chile                                 Obolo    3.750000\n0           Colombia                         Cacao Hunters    3.464286\n0         Costa Rica                                  Sibu    3.375000\n0     Czech Republic                                Jordis    2.750000\n0            Denmark                            Friis Holm    3.500000\n0  Domincan Republic                               Kah Kow    3.250000\n0            Ecuador                           Montecristi    3.416667\n0            Eucador                    Rancho San Jacinto    3.000000\n0               Fiji                                   Adi    3.250000\n0            Finland                                  Levy    3.500000\n0             France                Tobago Estate (Pralus)    4.000000\n0            Germany                         Timo A. Meyer    3.750000\n0              Ghana                              Omanhene    2.750000\n0            Grenada                 Grenada Chocolate Co.    2.833333\n0          Guatemala                                 Danta    3.416667\n0           Honduras                             Mesocacao    3.208333\n0            Hungary                          Szanto Tibor    3.400000\n0            Iceland                                 Omnom    3.416667\n0              India                                 Indah    2.500000\n0            Ireland                      Wilkie's Organic    2.812500\n0             Israel                            Holy Cacao    3.250000\n0              Italy                                Amedei    3.846154\n0              Japan                     Green Bean to Bar    3.500000\n0          Lithuania                                 Naive    3.333333\n0         Madagascar                   Madecasse (Cinagra)    3.687500\n0         Martinique                Chokolat Elot (Girard)    2.750000\n0             Mexico                              Ah Cacao    3.000000\n0        Netherlands                             Alexandre    3.500000\n0        New Zealand                     Captain Pembleton    3.625000\n0          Niacragua                            Nova Monda    2.750000\n0          Nicaragua                            Nova Monda    3.125000\n0               Peru                              Shattell    3.500000\n0        Philippines                               Malagos    3.500000\n0             Poland                 Manufaktura Czekolady    3.500000\n0           Portugal                        Feitoria Cacao    2.750000\n0        Puerto Rico                      Forteza (Cortes)    2.750000\n0             Russia                              Britarev    3.250000\n0           Sao Tome                       Claudio Corallo    2.937500\n0           Scotland                                Ocelot    3.875000\n0          Singapore                                 Fossa    3.333333\n0       South Africa                           De Villiers    2.750000\n0        South Korea                      Roasting Masters    3.250000\n0              Spain                         Cacao Sampaka    3.666667\n0          St. Lucia                        Emerald Estate    3.000000\n0           Suriname                        Tan Ban Skrati    3.250000\n0             Sweden                              Metiisto    3.250000\n0        Switzerland                     Idilio (Felchlin)    3.775000\n0               U.K.                               Duffy's    3.500000\n0             U.S.A.  Heirloom Cacao Preservation (Zokoko)    3.875000\n0          Venezuela                            Franceschi    3.625000\n0            Vietnam                                 Marou    3.450000\n0              Wales                           Baravelli's    2.750000",
      "text/html": "<div>\n<style scoped>\n    .dataframe tbody tr th:only-of-type {\n        vertical-align: middle;\n    }\n\n    .dataframe tbody tr th {\n        vertical-align: top;\n    }\n\n    .dataframe thead th {\n        text-align: right;\n    }\n</style>\n<table border=\"1\" class=\"dataframe\">\n  <thead>\n    <tr style=\"text-align: right;\">\n      <th></th>\n      <th>country</th>\n      <th>best_company</th>\n      <th>avg_rating</th>\n    </tr>\n  </thead>\n  <tbody>\n    <tr>\n      <th>0</th>\n      <td>Amsterdam</td>\n      <td>Chocolate Makers</td>\n      <td>3.500000</td>\n    </tr>\n    <tr>\n      <th>0</th>\n      <td>Argentina</td>\n      <td>Salgado</td>\n      <td>3.500000</td>\n    </tr>\n    <tr>\n      <th>0</th>\n      <td>Australia</td>\n      <td>Matale</td>\n      <td>3.812500</td>\n    </tr>\n    <tr>\n      <th>0</th>\n      <td>Austria</td>\n      <td>Zotter</td>\n      <td>3.308824</td>\n    </tr>\n    <tr>\n      <th>0</th>\n      <td>Belgium</td>\n      <td>Benoit Nihant</td>\n      <td>3.708333</td>\n    </tr>\n    <tr>\n      <th>0</th>\n      <td>Bolivia</td>\n      <td>El Ceibo</td>\n      <td>3.250000</td>\n    </tr>\n    <tr>\n      <th>0</th>\n      <td>Brazil</td>\n      <td>Mission</td>\n      <td>3.625000</td>\n    </tr>\n    <tr>\n      <th>0</th>\n      <td>Canada</td>\n      <td>Christopher Morel (Felchlin)</td>\n      <td>3.750000</td>\n    </tr>\n    <tr>\n      <th>0</th>\n      <td>Chile</td>\n      <td>Obolo</td>\n      <td>3.750000</td>\n    </tr>\n    <tr>\n      <th>0</th>\n      <td>Colombia</td>\n      <td>Cacao Hunters</td>\n      <td>3.464286</td>\n    </tr>\n    <tr>\n      <th>0</th>\n      <td>Costa Rica</td>\n      <td>Sibu</td>\n      <td>3.375000</td>\n    </tr>\n    <tr>\n      <th>0</th>\n      <td>Czech Republic</td>\n      <td>Jordis</td>\n      <td>2.750000</td>\n    </tr>\n    <tr>\n      <th>0</th>\n      <td>Denmark</td>\n      <td>Friis Holm</td>\n      <td>3.500000</td>\n    </tr>\n    <tr>\n      <th>0</th>\n      <td>Domincan Republic</td>\n      <td>Kah Kow</td>\n      <td>3.250000</td>\n    </tr>\n    <tr>\n      <th>0</th>\n      <td>Ecuador</td>\n      <td>Montecristi</td>\n      <td>3.416667</td>\n    </tr>\n    <tr>\n      <th>0</th>\n      <td>Eucador</td>\n      <td>Rancho San Jacinto</td>\n      <td>3.000000</td>\n    </tr>\n    <tr>\n      <th>0</th>\n      <td>Fiji</td>\n      <td>Adi</td>\n      <td>3.250000</td>\n    </tr>\n    <tr>\n      <th>0</th>\n      <td>Finland</td>\n      <td>Levy</td>\n      <td>3.500000</td>\n    </tr>\n    <tr>\n      <th>0</th>\n      <td>France</td>\n      <td>Tobago Estate (Pralus)</td>\n      <td>4.000000</td>\n    </tr>\n    <tr>\n      <th>0</th>\n      <td>Germany</td>\n      <td>Timo A. Meyer</td>\n      <td>3.750000</td>\n    </tr>\n    <tr>\n      <th>0</th>\n      <td>Ghana</td>\n      <td>Omanhene</td>\n      <td>2.750000</td>\n    </tr>\n    <tr>\n      <th>0</th>\n      <td>Grenada</td>\n      <td>Grenada Chocolate Co.</td>\n      <td>2.833333</td>\n    </tr>\n    <tr>\n      <th>0</th>\n      <td>Guatemala</td>\n      <td>Danta</td>\n      <td>3.416667</td>\n    </tr>\n    <tr>\n      <th>0</th>\n      <td>Honduras</td>\n      <td>Mesocacao</td>\n      <td>3.208333</td>\n    </tr>\n    <tr>\n      <th>0</th>\n      <td>Hungary</td>\n      <td>Szanto Tibor</td>\n      <td>3.400000</td>\n    </tr>\n    <tr>\n      <th>0</th>\n      <td>Iceland</td>\n      <td>Omnom</td>\n      <td>3.416667</td>\n    </tr>\n    <tr>\n      <th>0</th>\n      <td>India</td>\n      <td>Indah</td>\n      <td>2.500000</td>\n    </tr>\n    <tr>\n      <th>0</th>\n      <td>Ireland</td>\n      <td>Wilkie's Organic</td>\n      <td>2.812500</td>\n    </tr>\n    <tr>\n      <th>0</th>\n      <td>Israel</td>\n      <td>Holy Cacao</td>\n      <td>3.250000</td>\n    </tr>\n    <tr>\n      <th>0</th>\n      <td>Italy</td>\n      <td>Amedei</td>\n      <td>3.846154</td>\n    </tr>\n    <tr>\n      <th>0</th>\n      <td>Japan</td>\n      <td>Green Bean to Bar</td>\n      <td>3.500000</td>\n    </tr>\n    <tr>\n      <th>0</th>\n      <td>Lithuania</td>\n      <td>Naive</td>\n      <td>3.333333</td>\n    </tr>\n    <tr>\n      <th>0</th>\n      <td>Madagascar</td>\n      <td>Madecasse (Cinagra)</td>\n      <td>3.687500</td>\n    </tr>\n    <tr>\n      <th>0</th>\n      <td>Martinique</td>\n      <td>Chokolat Elot (Girard)</td>\n      <td>2.750000</td>\n    </tr>\n    <tr>\n      <th>0</th>\n      <td>Mexico</td>\n      <td>Ah Cacao</td>\n      <td>3.000000</td>\n    </tr>\n    <tr>\n      <th>0</th>\n      <td>Netherlands</td>\n      <td>Alexandre</td>\n      <td>3.500000</td>\n    </tr>\n    <tr>\n      <th>0</th>\n      <td>New Zealand</td>\n      <td>Captain Pembleton</td>\n      <td>3.625000</td>\n    </tr>\n    <tr>\n      <th>0</th>\n      <td>Niacragua</td>\n      <td>Nova Monda</td>\n      <td>2.750000</td>\n    </tr>\n    <tr>\n      <th>0</th>\n      <td>Nicaragua</td>\n      <td>Nova Monda</td>\n      <td>3.125000</td>\n    </tr>\n    <tr>\n      <th>0</th>\n      <td>Peru</td>\n      <td>Shattell</td>\n      <td>3.500000</td>\n    </tr>\n    <tr>\n      <th>0</th>\n      <td>Philippines</td>\n      <td>Malagos</td>\n      <td>3.500000</td>\n    </tr>\n    <tr>\n      <th>0</th>\n      <td>Poland</td>\n      <td>Manufaktura Czekolady</td>\n      <td>3.500000</td>\n    </tr>\n    <tr>\n      <th>0</th>\n      <td>Portugal</td>\n      <td>Feitoria Cacao</td>\n      <td>2.750000</td>\n    </tr>\n    <tr>\n      <th>0</th>\n      <td>Puerto Rico</td>\n      <td>Forteza (Cortes)</td>\n      <td>2.750000</td>\n    </tr>\n    <tr>\n      <th>0</th>\n      <td>Russia</td>\n      <td>Britarev</td>\n      <td>3.250000</td>\n    </tr>\n    <tr>\n      <th>0</th>\n      <td>Sao Tome</td>\n      <td>Claudio Corallo</td>\n      <td>2.937500</td>\n    </tr>\n    <tr>\n      <th>0</th>\n      <td>Scotland</td>\n      <td>Ocelot</td>\n      <td>3.875000</td>\n    </tr>\n    <tr>\n      <th>0</th>\n      <td>Singapore</td>\n      <td>Fossa</td>\n      <td>3.333333</td>\n    </tr>\n    <tr>\n      <th>0</th>\n      <td>South Africa</td>\n      <td>De Villiers</td>\n      <td>2.750000</td>\n    </tr>\n    <tr>\n      <th>0</th>\n      <td>South Korea</td>\n      <td>Roasting Masters</td>\n      <td>3.250000</td>\n    </tr>\n    <tr>\n      <th>0</th>\n      <td>Spain</td>\n      <td>Cacao Sampaka</td>\n      <td>3.666667</td>\n    </tr>\n    <tr>\n      <th>0</th>\n      <td>St. Lucia</td>\n      <td>Emerald Estate</td>\n      <td>3.000000</td>\n    </tr>\n    <tr>\n      <th>0</th>\n      <td>Suriname</td>\n      <td>Tan Ban Skrati</td>\n      <td>3.250000</td>\n    </tr>\n    <tr>\n      <th>0</th>\n      <td>Sweden</td>\n      <td>Metiisto</td>\n      <td>3.250000</td>\n    </tr>\n    <tr>\n      <th>0</th>\n      <td>Switzerland</td>\n      <td>Idilio (Felchlin)</td>\n      <td>3.775000</td>\n    </tr>\n    <tr>\n      <th>0</th>\n      <td>U.K.</td>\n      <td>Duffy's</td>\n      <td>3.500000</td>\n    </tr>\n    <tr>\n      <th>0</th>\n      <td>U.S.A.</td>\n      <td>Heirloom Cacao Preservation (Zokoko)</td>\n      <td>3.875000</td>\n    </tr>\n    <tr>\n      <th>0</th>\n      <td>Venezuela</td>\n      <td>Franceschi</td>\n      <td>3.625000</td>\n    </tr>\n    <tr>\n      <th>0</th>\n      <td>Vietnam</td>\n      <td>Marou</td>\n      <td>3.450000</td>\n    </tr>\n    <tr>\n      <th>0</th>\n      <td>Wales</td>\n      <td>Baravelli's</td>\n      <td>2.750000</td>\n    </tr>\n  </tbody>\n</table>\n</div>"
     },
     "execution_count": 9,
     "metadata": {},
     "output_type": "execute_result"
    }
   ],
   "source": [
    "# Create a dataframe in which to save the best company for each country\n",
    "d = {'country': [],\n",
    "     'best_company': [],\n",
    "     'avg_rating': []}\n",
    "loc_companies = pd.DataFrame(d)\n",
    "\n",
    "# Foreach country save its companies\n",
    "for c in countries:\n",
    "    companies_country = chocodata.loc[chocodata['company_location'] == c]\n",
    "    # Create a dataframe in which to save the companies and their average evaluations\n",
    "    d = {'company': [],\n",
    "         'avg_rating': []}\n",
    "    avg_companies = pd.DataFrame(d)\n",
    "    # Foreach company in country c, compute the average rating of its bars\n",
    "    for comp in companies_country.company:\n",
    "        # Compute the average rating for company comp of country c\n",
    "        company = companies_country[companies_country.company == comp]\n",
    "        mean_rating = company['rating'].mean()\n",
    "        # Insert that company and its average rating inside the avg_companies dataframe\n",
    "        d = pd.DataFrame(\n",
    "            {'company': [comp],\n",
    "             'avg_rating': [mean_rating]})\n",
    "        tmp = [avg_companies, d]\n",
    "        avg_companies = pd.concat(tmp)\n",
    "    # Extract the best company for country c\n",
    "    best_company = avg_companies.nlargest(1, ['avg_rating'])\n",
    "    # Insert the company in the dataframe\n",
    "    d = pd.DataFrame(\n",
    "            {'country': [c],\n",
    "             'best_company': [best_company['company'].values[0]],\n",
    "             'avg_rating': [best_company['avg_rating'].values[0]]})\n",
    "    tmp = [loc_companies, d]\n",
    "    loc_companies = pd.concat(tmp)\n",
    "\n",
    "loc_companies.sort_values('country')"
   ]
  },
  {
   "cell_type": "markdown",
   "id": "4e9872e6",
   "metadata": {},
   "source": [
    "### ChocoStats"
   ]
  },
  {
   "cell_type": "code",
   "execution_count": null,
   "id": "d629a68f",
   "metadata": {},
   "outputs": [],
   "source": []
  }
 ],
 "metadata": {
  "kernelspec": {
   "display_name": "Python 3 (ipykernel)",
   "language": "python",
   "name": "python3"
  },
  "language_info": {
   "codemirror_mode": {
    "name": "ipython",
    "version": 3
   },
   "file_extension": ".py",
   "mimetype": "text/x-python",
   "name": "python",
   "nbconvert_exporter": "python",
   "pygments_lexer": "ipython3",
   "version": "3.9.7"
  }
 },
 "nbformat": 4,
 "nbformat_minor": 5
}