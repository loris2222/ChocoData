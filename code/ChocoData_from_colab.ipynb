{
 "nbformat": 4,
 "nbformat_minor": 0,
 "metadata": {
  "colab": {
   "name": "ChocoData.ipynb",
   "provenance": [],
   "collapsed_sections": [
    "6biqAAZLDx3J",
    "Qk5sCBFcgTlL",
    "0C_h_BEbD5CG",
    "85arekAKQZ4z",
    "lAAYNZ05FHva",
    "G-uqfgnj-2rM",
    "eJrxJPcK6ahZ",
    "JjEKlNV0Pe4c",
    "H-1pz0MTZhBh",
    "DqLLR_P-wY4p",
    "aQ3Qfw3YNYov",
    "s0Dgo0zbnD9i",
    "N6URES9vnD_6",
    "5m-1s0lonECO",
    "zpveSJXYnEE0",
    "imSnfy4znQgW",
    "LGVTILyzdojM"
   ],
   "include_colab_link": true
  },
  "kernelspec": {
   "name": "python3",
   "display_name": "Python 3"
  },
  "language_info": {
   "name": "python"
  }
 },
 "cells": [
  {
   "cell_type": "markdown",
   "metadata": {
    "id": "view-in-github",
    "colab_type": "text"
   },
   "source": [
    "<a href=\"https://colab.research.google.com/github/loris2222/ChocoData/blob/main/code/ChocoData_from_colab.ipynb\" target=\"_parent\"><img src=\"https://colab.research.google.com/assets/colab-badge.svg\" alt=\"Open In Colab\"/></a>"
   ]
  },
  {
   "cell_type": "markdown",
   "source": [
    "# ChocoData\n",
    "\n",
    "**Chocolate** is the food we all know and love. It dates back to the Olmec culture (19th-11th century BCE), and it has been consumed in some form by Maya and Aztecs too. Chocolate is consumed today more than ever and we advocate for consumer awareness concerning how chocolate is made. To this end, we explore some chocolate bar rating data, contained in the [Chocolate Bar Ratings](https://www.kaggle.com/rtatman/chocolate-bar-ratings) Kaggle dataset. The idea is to present, analyze, and compare the best chocolate bars throughout a visual data-analysis tour.\n",
    "\n",
    "The `ChocoData` notebook is the exam project of the Ph.D. course **Data and Results Visualization**, held by Prof. Daniele Loiacono at Politecnico di Milano in December 2021. The authors are Loris Giulivi, Paolo Boffi, and Alberto Archetti. It is provided under the MIT license.\n",
    "\n",
    "![testo del link](https://www.chocolate7.com/wp-content/uploads/2020/07/scopri_il_tuo_cioccolato_home.jpg)\n"
   ],
   "metadata": {
    "collapsed": false
   }
  },
  {
   "cell_type": "code",
   "source": [
    "# Set COLORBLIND to True to enable colorblind mode\n",
    "COLORBLIND = True"
   ],
   "metadata": {
    "id": "7pJsHv8Fs2Wl"
   },
   "execution_count": 15,
   "outputs": []
  },
  {
   "cell_type": "markdown",
   "source": [
    "## Set up the stage\n",
    "\n",
    "In this section, we import the main plotting libraries, `seaborn` and `matplotlib` and prepare the dataset for further processing. We fix duplicate, wrong, and missing values. Finally, we define some helper functions that will be useful later.\n",
    "\n",
    "Note: you must restart the runtime after upgrading `matplotlib`!"
   ],
   "metadata": {
    "id": "6biqAAZLDx3J"
   }
  },
  {
   "cell_type": "markdown",
   "source": [
    "### Imports"
   ],
   "metadata": {
    "id": "KOA1GXmIgNuv"
   }
  },
  {
   "cell_type": "code",
   "source": [
    "# Update matplotlib to the last available version; without this ax.bar_label \n",
    "# does not work (used to display bar values on seaborn barplots); every time \n",
    "# this line of code is executed for the first time, we need to restart the \n",
    "# runtime\n",
    "! pip install matplotlib --upgrade matplotlib"
   ],
   "metadata": {
    "id": "SIDmVqENA0xO",
    "colab": {
     "base_uri": "https://localhost:8080/"
    },
    "outputId": "7002f9de-7d4d-4912-9987-765219ddb2d1"
   },
   "execution_count": 16,
   "outputs": [
    {
     "name": "stdout",
     "output_type": "stream",
     "text": [
      "Requirement already satisfied: matplotlib in n:\\pycharmprojects\\chocodata\\venv\\lib\\site-packages (3.5.1)\n",
      "Requirement already satisfied: numpy>=1.17 in n:\\pycharmprojects\\chocodata\\venv\\lib\\site-packages (from matplotlib) (1.21.5+vanilla)\n",
      "Requirement already satisfied: pillow>=6.2.0 in n:\\pycharmprojects\\chocodata\\venv\\lib\\site-packages (from matplotlib) (9.0.0)\n",
      "Requirement already satisfied: kiwisolver>=1.0.1 in n:\\pycharmprojects\\chocodata\\venv\\lib\\site-packages (from matplotlib) (1.3.2)\n",
      "Requirement already satisfied: python-dateutil>=2.7 in n:\\pycharmprojects\\chocodata\\venv\\lib\\site-packages (from matplotlib) (2.8.2)\n",
      "Requirement already satisfied: cycler>=0.10 in n:\\pycharmprojects\\chocodata\\venv\\lib\\site-packages (from matplotlib) (0.11.0)\n",
      "Requirement already satisfied: packaging>=20.0 in n:\\pycharmprojects\\chocodata\\venv\\lib\\site-packages (from matplotlib) (21.3)\n",
      "Requirement already satisfied: fonttools>=4.22.0 in n:\\pycharmprojects\\chocodata\\venv\\lib\\site-packages (from matplotlib) (4.29.1)\n",
      "Requirement already satisfied: pyparsing>=2.2.1 in n:\\pycharmprojects\\chocodata\\venv\\lib\\site-packages (from matplotlib) (3.0.7)\n",
      "Requirement already satisfied: six>=1.5 in n:\\pycharmprojects\\chocodata\\venv\\lib\\site-packages (from python-dateutil>=2.7->matplotlib) (1.16.0)\n"
     ]
    }
   ]
  },
  {
   "cell_type": "code",
   "source": [
    "import os\n",
    "from os import path\n",
    "import seaborn as sns\n",
    "import matplotlib.pyplot as plt\n",
    "import numpy as np\n",
    "import pandas as pd\n",
    "from PIL import Image\n",
    "import geopandas\n",
    "import folium\n",
    "import csv\n",
    "import math\n",
    "import ipywidgets as widgets\n",
    "from IPython.display import display\n",
    "from shapely.geometry import shape\n",
    "\n",
    "sns.set_theme(style=\"darkgrid\")\n",
    "\n",
    "# All the plots will be saved in the ./images folder\n",
    "if not os.path.exists('images'):\n",
    "        os.mkdir('images')"
   ],
   "metadata": {
    "id": "bJw2rCWAdnFB"
   },
   "execution_count": 20,
   "outputs": [
    {
     "ename": "AttributeError",
     "evalue": "module 'numpy.random' has no attribute 'mtrand'",
     "output_type": "error",
     "traceback": [
      "\u001B[1;31m---------------------------------------------------------------------------\u001B[0m",
      "\u001B[1;31mAttributeError\u001B[0m                            Traceback (most recent call last)",
      "\u001B[1;32m~\\AppData\\Local\\Temp\\ipykernel_21680\\559570978.py\u001B[0m in \u001B[0;36m<module>\u001B[1;34m\u001B[0m\n\u001B[0;32m      1\u001B[0m \u001B[1;32mimport\u001B[0m \u001B[0mos\u001B[0m\u001B[1;33m\u001B[0m\u001B[1;33m\u001B[0m\u001B[0m\n\u001B[0;32m      2\u001B[0m \u001B[1;32mfrom\u001B[0m \u001B[0mos\u001B[0m \u001B[1;32mimport\u001B[0m \u001B[0mpath\u001B[0m\u001B[1;33m\u001B[0m\u001B[1;33m\u001B[0m\u001B[0m\n\u001B[1;32m----> 3\u001B[1;33m \u001B[1;32mimport\u001B[0m \u001B[0mseaborn\u001B[0m \u001B[1;32mas\u001B[0m \u001B[0msns\u001B[0m\u001B[1;33m\u001B[0m\u001B[1;33m\u001B[0m\u001B[0m\n\u001B[0m\u001B[0;32m      4\u001B[0m \u001B[1;32mimport\u001B[0m \u001B[0mmatplotlib\u001B[0m\u001B[1;33m.\u001B[0m\u001B[0mpyplot\u001B[0m \u001B[1;32mas\u001B[0m \u001B[0mplt\u001B[0m\u001B[1;33m\u001B[0m\u001B[1;33m\u001B[0m\u001B[0m\n\u001B[0;32m      5\u001B[0m \u001B[1;32mimport\u001B[0m \u001B[0mnumpy\u001B[0m \u001B[1;32mas\u001B[0m \u001B[0mnp\u001B[0m\u001B[1;33m\u001B[0m\u001B[1;33m\u001B[0m\u001B[0m\n",
      "\u001B[1;32mn:\\pycharmprojects\\chocodata\\venv\\lib\\site-packages\\seaborn\\__init__.py\u001B[0m in \u001B[0;36m<module>\u001B[1;34m\u001B[0m\n\u001B[0;32m      1\u001B[0m \u001B[1;31m# Import seaborn objects\u001B[0m\u001B[1;33m\u001B[0m\u001B[1;33m\u001B[0m\u001B[1;33m\u001B[0m\u001B[0m\n\u001B[1;32m----> 2\u001B[1;33m \u001B[1;32mfrom\u001B[0m \u001B[1;33m.\u001B[0m\u001B[0mrcmod\u001B[0m \u001B[1;32mimport\u001B[0m \u001B[1;33m*\u001B[0m  \u001B[1;31m# noqa: F401,F403\u001B[0m\u001B[1;33m\u001B[0m\u001B[1;33m\u001B[0m\u001B[0m\n\u001B[0m\u001B[0;32m      3\u001B[0m \u001B[1;32mfrom\u001B[0m \u001B[1;33m.\u001B[0m\u001B[0mutils\u001B[0m \u001B[1;32mimport\u001B[0m \u001B[1;33m*\u001B[0m  \u001B[1;31m# noqa: F401,F403\u001B[0m\u001B[1;33m\u001B[0m\u001B[1;33m\u001B[0m\u001B[0m\n\u001B[0;32m      4\u001B[0m \u001B[1;32mfrom\u001B[0m \u001B[1;33m.\u001B[0m\u001B[0mpalettes\u001B[0m \u001B[1;32mimport\u001B[0m \u001B[1;33m*\u001B[0m  \u001B[1;31m# noqa: F401,F403\u001B[0m\u001B[1;33m\u001B[0m\u001B[1;33m\u001B[0m\u001B[0m\n\u001B[0;32m      5\u001B[0m \u001B[1;32mfrom\u001B[0m \u001B[1;33m.\u001B[0m\u001B[0mrelational\u001B[0m \u001B[1;32mimport\u001B[0m \u001B[1;33m*\u001B[0m  \u001B[1;31m# noqa: F401,F403\u001B[0m\u001B[1;33m\u001B[0m\u001B[1;33m\u001B[0m\u001B[0m\n",
      "\u001B[1;32mn:\\pycharmprojects\\chocodata\\venv\\lib\\site-packages\\seaborn\\rcmod.py\u001B[0m in \u001B[0;36m<module>\u001B[1;34m\u001B[0m\n\u001B[0;32m      5\u001B[0m \u001B[1;32mimport\u001B[0m \u001B[0mmatplotlib\u001B[0m \u001B[1;32mas\u001B[0m \u001B[0mmpl\u001B[0m\u001B[1;33m\u001B[0m\u001B[1;33m\u001B[0m\u001B[0m\n\u001B[0;32m      6\u001B[0m \u001B[1;32mfrom\u001B[0m \u001B[0mcycler\u001B[0m \u001B[1;32mimport\u001B[0m \u001B[0mcycler\u001B[0m\u001B[1;33m\u001B[0m\u001B[1;33m\u001B[0m\u001B[0m\n\u001B[1;32m----> 7\u001B[1;33m \u001B[1;32mfrom\u001B[0m \u001B[1;33m.\u001B[0m \u001B[1;32mimport\u001B[0m \u001B[0mpalettes\u001B[0m\u001B[1;33m\u001B[0m\u001B[1;33m\u001B[0m\u001B[0m\n\u001B[0m\u001B[0;32m      8\u001B[0m \u001B[1;33m\u001B[0m\u001B[0m\n\u001B[0;32m      9\u001B[0m \u001B[1;33m\u001B[0m\u001B[0m\n",
      "\u001B[1;32mn:\\pycharmprojects\\chocodata\\venv\\lib\\site-packages\\seaborn\\palettes.py\u001B[0m in \u001B[0;36m<module>\u001B[1;34m\u001B[0m\n\u001B[0;32m      7\u001B[0m \u001B[1;32mfrom\u001B[0m \u001B[1;33m.\u001B[0m\u001B[0mexternal\u001B[0m \u001B[1;32mimport\u001B[0m \u001B[0mhusl\u001B[0m\u001B[1;33m\u001B[0m\u001B[1;33m\u001B[0m\u001B[0m\n\u001B[0;32m      8\u001B[0m \u001B[1;33m\u001B[0m\u001B[0m\n\u001B[1;32m----> 9\u001B[1;33m \u001B[1;32mfrom\u001B[0m \u001B[1;33m.\u001B[0m\u001B[0mutils\u001B[0m \u001B[1;32mimport\u001B[0m \u001B[0mdesaturate\u001B[0m\u001B[1;33m,\u001B[0m \u001B[0mget_color_cycle\u001B[0m\u001B[1;33m\u001B[0m\u001B[1;33m\u001B[0m\u001B[0m\n\u001B[0m\u001B[0;32m     10\u001B[0m \u001B[1;32mfrom\u001B[0m \u001B[1;33m.\u001B[0m\u001B[0mcolors\u001B[0m \u001B[1;32mimport\u001B[0m \u001B[0mxkcd_rgb\u001B[0m\u001B[1;33m,\u001B[0m \u001B[0mcrayons\u001B[0m\u001B[1;33m\u001B[0m\u001B[1;33m\u001B[0m\u001B[0m\n\u001B[0;32m     11\u001B[0m \u001B[1;33m\u001B[0m\u001B[0m\n",
      "\u001B[1;32mn:\\pycharmprojects\\chocodata\\venv\\lib\\site-packages\\seaborn\\utils.py\u001B[0m in \u001B[0;36m<module>\u001B[1;34m\u001B[0m\n\u001B[0;32m      8\u001B[0m \u001B[1;33m\u001B[0m\u001B[0m\n\u001B[0;32m      9\u001B[0m \u001B[1;32mimport\u001B[0m \u001B[0mnumpy\u001B[0m \u001B[1;32mas\u001B[0m \u001B[0mnp\u001B[0m\u001B[1;33m\u001B[0m\u001B[1;33m\u001B[0m\u001B[0m\n\u001B[1;32m---> 10\u001B[1;33m \u001B[1;32mfrom\u001B[0m \u001B[0mscipy\u001B[0m \u001B[1;32mimport\u001B[0m \u001B[0mstats\u001B[0m\u001B[1;33m\u001B[0m\u001B[1;33m\u001B[0m\u001B[0m\n\u001B[0m\u001B[0;32m     11\u001B[0m \u001B[1;32mimport\u001B[0m \u001B[0mpandas\u001B[0m \u001B[1;32mas\u001B[0m \u001B[0mpd\u001B[0m\u001B[1;33m\u001B[0m\u001B[1;33m\u001B[0m\u001B[0m\n\u001B[0;32m     12\u001B[0m \u001B[1;32mimport\u001B[0m \u001B[0mmatplotlib\u001B[0m \u001B[1;32mas\u001B[0m \u001B[0mmpl\u001B[0m\u001B[1;33m\u001B[0m\u001B[1;33m\u001B[0m\u001B[0m\n",
      "\u001B[1;32mn:\\pycharmprojects\\chocodata\\venv\\lib\\site-packages\\scipy\\stats\\__init__.py\u001B[0m in \u001B[0;36m<module>\u001B[1;34m\u001B[0m\n\u001B[0;32m    439\u001B[0m \"\"\"\n\u001B[0;32m    440\u001B[0m \u001B[1;33m\u001B[0m\u001B[0m\n\u001B[1;32m--> 441\u001B[1;33m \u001B[1;32mfrom\u001B[0m \u001B[1;33m.\u001B[0m\u001B[0mstats\u001B[0m \u001B[1;32mimport\u001B[0m \u001B[1;33m*\u001B[0m\u001B[1;33m\u001B[0m\u001B[1;33m\u001B[0m\u001B[0m\n\u001B[0m\u001B[0;32m    442\u001B[0m \u001B[1;32mfrom\u001B[0m \u001B[1;33m.\u001B[0m\u001B[0mdistributions\u001B[0m \u001B[1;32mimport\u001B[0m \u001B[1;33m*\u001B[0m\u001B[1;33m\u001B[0m\u001B[1;33m\u001B[0m\u001B[0m\n\u001B[0;32m    443\u001B[0m \u001B[1;32mfrom\u001B[0m \u001B[1;33m.\u001B[0m\u001B[0mmorestats\u001B[0m \u001B[1;32mimport\u001B[0m \u001B[1;33m*\u001B[0m\u001B[1;33m\u001B[0m\u001B[1;33m\u001B[0m\u001B[0m\n",
      "\u001B[1;32mn:\\pycharmprojects\\chocodata\\venv\\lib\\site-packages\\scipy\\stats\\stats.py\u001B[0m in \u001B[0;36m<module>\u001B[1;34m\u001B[0m\n\u001B[0;32m     41\u001B[0m \u001B[1;32mimport\u001B[0m \u001B[0mscipy\u001B[0m\u001B[1;33m.\u001B[0m\u001B[0mspecial\u001B[0m \u001B[1;32mas\u001B[0m \u001B[0mspecial\u001B[0m\u001B[1;33m\u001B[0m\u001B[1;33m\u001B[0m\u001B[0m\n\u001B[0;32m     42\u001B[0m \u001B[1;32mfrom\u001B[0m \u001B[0mscipy\u001B[0m \u001B[1;32mimport\u001B[0m \u001B[0mlinalg\u001B[0m\u001B[1;33m\u001B[0m\u001B[1;33m\u001B[0m\u001B[0m\n\u001B[1;32m---> 43\u001B[1;33m \u001B[1;32mfrom\u001B[0m \u001B[1;33m.\u001B[0m \u001B[1;32mimport\u001B[0m \u001B[0mdistributions\u001B[0m\u001B[1;33m\u001B[0m\u001B[1;33m\u001B[0m\u001B[0m\n\u001B[0m\u001B[0;32m     44\u001B[0m \u001B[1;32mfrom\u001B[0m \u001B[1;33m.\u001B[0m \u001B[1;32mimport\u001B[0m \u001B[0mmstats_basic\u001B[0m\u001B[1;33m\u001B[0m\u001B[1;33m\u001B[0m\u001B[0m\n\u001B[0;32m     45\u001B[0m from ._stats_mstats_common import (_find_repeats, linregress, theilslopes,\n",
      "\u001B[1;32mn:\\pycharmprojects\\chocodata\\venv\\lib\\site-packages\\scipy\\stats\\distributions.py\u001B[0m in \u001B[0;36m<module>\u001B[1;34m\u001B[0m\n\u001B[0;32m      8\u001B[0m \u001B[1;32mfrom\u001B[0m \u001B[1;33m.\u001B[0m\u001B[0m_distn_infrastructure\u001B[0m \u001B[1;32mimport\u001B[0m \u001B[1;33m(\u001B[0m\u001B[0mrv_discrete\u001B[0m\u001B[1;33m,\u001B[0m \u001B[0mrv_continuous\u001B[0m\u001B[1;33m,\u001B[0m \u001B[0mrv_frozen\u001B[0m\u001B[1;33m)\u001B[0m\u001B[1;33m\u001B[0m\u001B[1;33m\u001B[0m\u001B[0m\n\u001B[0;32m      9\u001B[0m \u001B[1;33m\u001B[0m\u001B[0m\n\u001B[1;32m---> 10\u001B[1;33m \u001B[1;32mfrom\u001B[0m \u001B[1;33m.\u001B[0m \u001B[1;32mimport\u001B[0m \u001B[0m_continuous_distns\u001B[0m\u001B[1;33m\u001B[0m\u001B[1;33m\u001B[0m\u001B[0m\n\u001B[0m\u001B[0;32m     11\u001B[0m \u001B[1;32mfrom\u001B[0m \u001B[1;33m.\u001B[0m \u001B[1;32mimport\u001B[0m \u001B[0m_discrete_distns\u001B[0m\u001B[1;33m\u001B[0m\u001B[1;33m\u001B[0m\u001B[0m\n\u001B[0;32m     12\u001B[0m \u001B[1;33m\u001B[0m\u001B[0m\n",
      "\u001B[1;32mn:\\pycharmprojects\\chocodata\\venv\\lib\\site-packages\\scipy\\stats\\_continuous_distns.py\u001B[0m in \u001B[0;36m<module>\u001B[1;34m\u001B[0m\n\u001B[0;32m    118\u001B[0m \u001B[1;33m\u001B[0m\u001B[0m\n\u001B[0;32m    119\u001B[0m \u001B[1;33m\u001B[0m\u001B[0m\n\u001B[1;32m--> 120\u001B[1;33m \u001B[0mksone\u001B[0m \u001B[1;33m=\u001B[0m \u001B[0mksone_gen\u001B[0m\u001B[1;33m(\u001B[0m\u001B[0ma\u001B[0m\u001B[1;33m=\u001B[0m\u001B[1;36m0.0\u001B[0m\u001B[1;33m,\u001B[0m \u001B[0mb\u001B[0m\u001B[1;33m=\u001B[0m\u001B[1;36m1.0\u001B[0m\u001B[1;33m,\u001B[0m \u001B[0mname\u001B[0m\u001B[1;33m=\u001B[0m\u001B[1;34m'ksone'\u001B[0m\u001B[1;33m)\u001B[0m\u001B[1;33m\u001B[0m\u001B[1;33m\u001B[0m\u001B[0m\n\u001B[0m\u001B[0;32m    121\u001B[0m \u001B[1;33m\u001B[0m\u001B[0m\n\u001B[0;32m    122\u001B[0m \u001B[1;33m\u001B[0m\u001B[0m\n",
      "\u001B[1;32mn:\\pycharmprojects\\chocodata\\venv\\lib\\site-packages\\scipy\\stats\\_distn_infrastructure.py\u001B[0m in \u001B[0;36m__init__\u001B[1;34m(self, momtype, a, b, xtol, badvalue, name, longname, shapes, extradoc, seed)\u001B[0m\n\u001B[0;32m   1691\u001B[0m                  shapes=None, extradoc=None, seed=None):\n\u001B[0;32m   1692\u001B[0m \u001B[1;33m\u001B[0m\u001B[0m\n\u001B[1;32m-> 1693\u001B[1;33m         \u001B[0msuper\u001B[0m\u001B[1;33m(\u001B[0m\u001B[1;33m)\u001B[0m\u001B[1;33m.\u001B[0m\u001B[0m__init__\u001B[0m\u001B[1;33m(\u001B[0m\u001B[0mseed\u001B[0m\u001B[1;33m)\u001B[0m\u001B[1;33m\u001B[0m\u001B[1;33m\u001B[0m\u001B[0m\n\u001B[0m\u001B[0;32m   1694\u001B[0m \u001B[1;33m\u001B[0m\u001B[0m\n\u001B[0;32m   1695\u001B[0m         \u001B[1;31m# save the ctor parameters, cf generic freeze\u001B[0m\u001B[1;33m\u001B[0m\u001B[1;33m\u001B[0m\u001B[1;33m\u001B[0m\u001B[0m\n",
      "\u001B[1;32mn:\\pycharmprojects\\chocodata\\venv\\lib\\site-packages\\scipy\\stats\\_distn_infrastructure.py\u001B[0m in \u001B[0;36m__init__\u001B[1;34m(self, seed)\u001B[0m\n\u001B[0;32m    637\u001B[0m                                    \u001B[1;33m(\u001B[0m\u001B[1;34m'moments'\u001B[0m \u001B[1;32min\u001B[0m \u001B[0msig\u001B[0m\u001B[1;33m.\u001B[0m\u001B[0margs\u001B[0m\u001B[1;33m)\u001B[0m \u001B[1;32mor\u001B[0m\u001B[1;33m\u001B[0m\u001B[1;33m\u001B[0m\u001B[0m\n\u001B[0;32m    638\u001B[0m                                    ('moments' in sig.kwonlyargs))\n\u001B[1;32m--> 639\u001B[1;33m         \u001B[0mself\u001B[0m\u001B[1;33m.\u001B[0m\u001B[0m_random_state\u001B[0m \u001B[1;33m=\u001B[0m \u001B[0mcheck_random_state\u001B[0m\u001B[1;33m(\u001B[0m\u001B[0mseed\u001B[0m\u001B[1;33m)\u001B[0m\u001B[1;33m\u001B[0m\u001B[1;33m\u001B[0m\u001B[0m\n\u001B[0m\u001B[0;32m    640\u001B[0m \u001B[1;33m\u001B[0m\u001B[0m\n\u001B[0;32m    641\u001B[0m         \u001B[1;31m# For historical reasons, `size` was made an attribute that was read\u001B[0m\u001B[1;33m\u001B[0m\u001B[1;33m\u001B[0m\u001B[1;33m\u001B[0m\u001B[0m\n",
      "\u001B[1;32mn:\\pycharmprojects\\chocodata\\venv\\lib\\site-packages\\scipy\\_lib\\_util.py\u001B[0m in \u001B[0;36mcheck_random_state\u001B[1;34m(seed)\u001B[0m\n\u001B[0;32m    230\u001B[0m     \"\"\"\n\u001B[0;32m    231\u001B[0m     \u001B[1;32mif\u001B[0m \u001B[0mseed\u001B[0m \u001B[1;32mis\u001B[0m \u001B[1;32mNone\u001B[0m \u001B[1;32mor\u001B[0m \u001B[0mseed\u001B[0m \u001B[1;32mis\u001B[0m \u001B[0mnp\u001B[0m\u001B[1;33m.\u001B[0m\u001B[0mrandom\u001B[0m\u001B[1;33m:\u001B[0m\u001B[1;33m\u001B[0m\u001B[1;33m\u001B[0m\u001B[0m\n\u001B[1;32m--> 232\u001B[1;33m         \u001B[1;32mreturn\u001B[0m \u001B[0mnp\u001B[0m\u001B[1;33m.\u001B[0m\u001B[0mrandom\u001B[0m\u001B[1;33m.\u001B[0m\u001B[0mmtrand\u001B[0m\u001B[1;33m.\u001B[0m\u001B[0m_rand\u001B[0m\u001B[1;33m\u001B[0m\u001B[1;33m\u001B[0m\u001B[0m\n\u001B[0m\u001B[0;32m    233\u001B[0m     \u001B[1;32mif\u001B[0m \u001B[0misinstance\u001B[0m\u001B[1;33m(\u001B[0m\u001B[0mseed\u001B[0m\u001B[1;33m,\u001B[0m \u001B[1;33m(\u001B[0m\u001B[0mnumbers\u001B[0m\u001B[1;33m.\u001B[0m\u001B[0mIntegral\u001B[0m\u001B[1;33m,\u001B[0m \u001B[0mnp\u001B[0m\u001B[1;33m.\u001B[0m\u001B[0minteger\u001B[0m\u001B[1;33m)\u001B[0m\u001B[1;33m)\u001B[0m\u001B[1;33m:\u001B[0m\u001B[1;33m\u001B[0m\u001B[1;33m\u001B[0m\u001B[0m\n\u001B[0;32m    234\u001B[0m         \u001B[1;32mreturn\u001B[0m \u001B[0mnp\u001B[0m\u001B[1;33m.\u001B[0m\u001B[0mrandom\u001B[0m\u001B[1;33m.\u001B[0m\u001B[0mRandomState\u001B[0m\u001B[1;33m(\u001B[0m\u001B[0mseed\u001B[0m\u001B[1;33m)\u001B[0m\u001B[1;33m\u001B[0m\u001B[1;33m\u001B[0m\u001B[0m\n",
      "\u001B[1;31mAttributeError\u001B[0m: module 'numpy.random' has no attribute 'mtrand'"
     ]
    }
   ]
  },
  {
   "cell_type": "markdown",
   "source": [
    "### Download the dataset"
   ],
   "metadata": {
    "id": "Qk5sCBFcgTlL"
   }
  },
  {
   "cell_type": "code",
   "source": [
    "# Download and extract the dataset; the flavors_of_cacao.csv file is now \n",
    "# available locally\n",
    "! wget -nc https://www.dropbox.com/sh/duqeg9dx2o8s18r/AAAX_rCz1dwN8rs1LMwH1Jg1a\n",
    "! mv AAAX_rCz1dwN8rs1LMwH1Jg1a flavors_of_cacao.zip\n",
    "! unzip -n flavors_of_cacao.zip && rm -f flavors_of_cacao.zip"
   ],
   "metadata": {
    "id": "YCjba1TPaoGd",
    "colab": {
     "base_uri": "https://localhost:8080/"
    },
    "outputId": "fe999f37-6b55-4778-e9f9-5a0f75ca57ef"
   },
   "execution_count": null,
   "outputs": []
  },
  {
   "cell_type": "markdown",
   "source": [
    "### Helper functions"
   ],
   "metadata": {
    "id": "S9TCeOafgV42"
   }
  },
  {
   "cell_type": "code",
   "source": [
    "def get_palette(n, ordered=False, invert=False, colorblind=COLORBLIND):\n",
    "    \"\"\" Returns a color palette on n elements for Seaborn.\"\"\"\n",
    "    palette = sns.color_palette('deep', n)\n",
    "    if colorblind:\n",
    "        palette = sns.color_palette('colorblind', n)\n",
    "    if ordered:\n",
    "        palette = sns.color_palette('dark:#69d', n)[::-1]\n",
    "    if invert:\n",
    "        palette = palette[::-1]\n",
    "    return palette\n",
    "\n",
    "def annotate_with_counts(ax):\n",
    "    \"\"\"Adds counts on top of a Seaborn countplot.\"\"\"\n",
    "    for p in ax.patches: \n",
    "        ax.annotate('{:d}'.format(p.get_height()), \n",
    "                    (p.get_x() + p.get_width() * 0.5, p.get_height() + 5), \n",
    "                    ha = 'center')\n",
    "    return ax\n",
    "\n",
    "def rename_axes(ax, xlabel, ylabel):\n",
    "    \"\"\"\"Renames the axes of a plot.\"\"\"\n",
    "    ax.set_xlabel(xlabel)\n",
    "    ax.set_ylabel(ylabel)\n",
    "    return ax\n",
    "\n",
    "def vocabularize(vocab_dict, force=False):\n",
    "    \"\"\"Returns a vocabularize function for Pandas `apply`.\"\"\"\n",
    "    def vocabularize_with_dict(x):\n",
    "        for b in vocab_dict.keys():\n",
    "            if x.find(b) != -1:\n",
    "                return vocab_dict[b]\n",
    "        if force:\n",
    "            return 'Unknown'\n",
    "        return x\n",
    "    return vocabularize_with_dict\n",
    "\n",
    "def html_country(country):\n",
    "    dimx=0\n",
    "    dimy=0\n",
    "    infofile = open(os.path.join(os.getcwd(), \"./images/best_companies_by_country/iminfo.txt\"))\n",
    "    csv_file = csv.reader(infofile, delimiter=\",\")\n",
    "    for row in csv_file:\n",
    "        if row[0] == country:\n",
    "            dimx = int(row[1])/4\n",
    "            dimy = int(row[2])/4\n",
    "            break\n",
    "    infofile.close()\n",
    "    if dimy==0:\n",
    "        dim = 200\n",
    "    html = \"<img src='http://127.0.0.1:8887/images/best_companies_by_country/\"+country+\".png' alt='chart' style='height:\"+str(math.floor(dimy))+\"px'>\"\n",
    "\n",
    "    return html"
   ],
   "metadata": {
    "id": "abLfaXBQZ9I7"
   },
   "execution_count": null,
   "outputs": []
  },
  {
   "cell_type": "markdown",
   "source": [
    "### Data loading"
   ],
   "metadata": {
    "id": "0C_h_BEbD5CG"
   }
  },
  {
   "cell_type": "code",
   "source": [
    "# Load the dataset\n",
    "chocodata = pd.read_csv(\"flavors_of_cacao.csv\")\n",
    "\n",
    "# Rename columns\n",
    "columns = ['company', 'bar_name', 'ref', 'review_date', 'cocoa_percent',\n",
    "           'company_location', 'rating', 'bean_type', 'bean_origin']\n",
    "chocodata = chocodata.rename(columns=dict(zip(chocodata.columns, columns)))\n",
    "\n",
    "# Reorder columns\n",
    "columns = ['bar_name', 'company', 'company_location', 'rating', 'ref', \n",
    "           'review_date', 'cocoa_percent', 'bean_type', 'bean_origin']\n",
    "chocodata = chocodata[columns]\n",
    "\n",
    "# Define data types\n",
    "chocodata['cocoa_percent'] = chocodata['cocoa_percent'].apply(\n",
    "    lambda x: float(str(x).strip('%')) * 0.01)\n",
    "chocodata = chocodata.astype({\n",
    "    'bar_name': str,\n",
    "    'company': str, \n",
    "    'company_location': str, \n",
    "    'rating': float, \n",
    "    'ref': int, \n",
    "    'review_date': int,\n",
    "    'cocoa_percent': float, \n",
    "    'bean_type': str, \n",
    "    'bean_origin': str\n",
    "})\n",
    "\n",
    "# Sort values by insert order in the dataset\n",
    "chocodata = chocodata.sort_values(by=['ref', 'review_date', 'company'])\n",
    "\n",
    "# Print the first 5 rows\n",
    "chocodata.head()"
   ],
   "metadata": {
    "colab": {
     "base_uri": "https://localhost:8080/"
    },
    "id": "ZpGDw3hEDPrc",
    "outputId": "5d59803d-53d3-4abd-e7b8-f94344ac45d3"
   },
   "execution_count": null,
   "outputs": []
  },
  {
   "cell_type": "markdown",
   "source": [
    "### Data cleaning\n",
    "\n",
    "1. We fix inconsistencies in country names,\n",
    "2. we modify the `bean_type` column in order to limit its values to `Criollo`, `Forastero`, and `Trinitario`,\n",
    "3. we convert any missing value to `Unknown`."
   ],
   "metadata": {
    "id": "85arekAKQZ4z"
   }
  },
  {
   "cell_type": "code",
   "source": [
    "# Fix country names\n",
    "country_dict = {\n",
    "    'Amsterdam': 'Netherlands',\n",
    "    'Eucador': 'Ecuador',\n",
    "    'Niacragua': 'Nicaragua',\n",
    "    'U.S.A.': 'United States of America',\n",
    "    'Trinidad': 'Trinidad and Tobago',\n",
    "    'Congo': 'Dem. Rep. Congo',\n",
    "    'Dominican Republic': 'Dominican Rep.',\n",
    "    'Domincan Republic': 'Dominican Rep.',\n",
    "    'Solomon Islands': 'Solomon Is.'\n",
    "}\n",
    "chocodata['company_location'] = chocodata['company_location'].apply(\n",
    "    vocabularize(country_dict))\n",
    "\n",
    "# Fix bean types\n",
    "bean_dict = {\n",
    "    'Criollo': 'Criollo',\n",
    "    'Forastero': 'Forastero',\n",
    "    'Trinitario': 'Trinitario'\n",
    "}\n",
    "chocodata['bean_type'] = chocodata['bean_type'].apply(\n",
    "    vocabularize(bean_dict, force=True))\n",
    "\n",
    "# Fix bean origins\n",
    "prod_dict = {\n",
    "    'Trinidad': 'Trinidad and Tobago',\n",
    "    'Trinidad, Tobago': 'Trinidad and Tobago',\n",
    "    'Trinidad-Tobago': 'Trinidad and Tobago',\n",
    "    'Tobago': 'Trinidad and Tobago',\n",
    "    'Carribean': 'Caribbean',\n",
    "    'Ghana': 'Ghana',\n",
    "    'Venezuela': 'Venezuela',\n",
    "    'Ven.': 'Venezuela',\n",
    "    'Ven': 'Venezuela',\n",
    "    'Venez': 'Venezuela',\n",
    "    'Dominican Republic': 'Dominican Rep.',\n",
    "    'Domincan Republic': 'Dominican Rep.',\n",
    "    'Colombia': 'Colombia',\n",
    "    'Ecuador': 'Ecuador',\n",
    "    'Peru': 'Peru',\n",
    "    'Peru(SMartin,Pangoa,nacional)': 'Peru',\n",
    "    'South America': 'South America',\n",
    "    'Principe': 'Sao Tome and Principe',\n",
    "    'Haiti': 'Haiti',\n",
    "    'Mad.': 'Madagascar',\n",
    "    'Congo': 'Dem. Rep. Congo',\n",
    "    'Amsterdam': 'Netherlands',\n",
    "    'Solomon Islands': 'Solomon Is.'\n",
    "}\n",
    "chocodata['bean_origin'] = chocodata['bean_origin'].apply(\n",
    "    vocabularize(prod_dict))\n",
    "\n",
    "# Un-capitalize country names to be compliant with naming convention\n",
    "chocodata['bean_origin'] = chocodata['bean_origin'].str.lower()\n",
    "chocodata['company_location'] = chocodata['company_location'].str.lower()\n",
    "\n",
    "# Substitute all the empty and NaN cells with 'Unknown'\n",
    "for c in columns:\n",
    "    chocodata[c] = chocodata[c].replace(r'^\\s+$', 'Unknown', regex=True)\n",
    "    chocodata[c] = chocodata[c].fillna('Unknown')\n",
    "\n",
    "chocodata.head()"
   ],
   "metadata": {
    "colab": {
     "base_uri": "https://localhost:8080/"
    },
    "id": "ZPSOnv7TQbkN",
    "outputId": "3d5519dc-3634-4c30-acbe-0c9d46d3c10f"
   },
   "execution_count": null,
   "outputs": []
  },
  {
   "cell_type": "markdown",
   "source": [
    "## Summary statistics\n",
    "\n",
    "In this section, we describe the attributes of the dataset and provide an overall insight about its content using summary statistics."
   ],
   "metadata": {
    "id": "lAAYNZ05FHva"
   }
  },
  {
   "cell_type": "code",
   "source": [
    "# Define column descriptions\n",
    "column_descriptions = {\n",
    "    'bar_name': 'The bar name or the specific geo-region for the bar', \n",
    "    'company': 'Name of the company manufacturing the bar', \n",
    "    'company_location': 'Manufacturer base country', \n",
    "    'rating': 'Expert rating for the bar', \n",
    "    'ref': 'Review creation value. Higher = more recent', \n",
    "    'review_date': 'Date of publication of the review',\n",
    "    'cocoa_percent': 'Cocoa percentage (darkness)', \n",
    "    'bean_type': 'The variety (breed) of bean used, if provided', \n",
    "    'bean_origin': 'The broad geo-region of origin for the bean'\n",
    "}\n",
    "\n",
    "# Count unique values of each column\n",
    "chocodata_uniques = {}\n",
    "for c in columns:\n",
    "    chocodata_uniques[c] = chocodata[c].unique()\n",
    "\n",
    "# Define a dictionary of columns paired with unique values and attribute \n",
    "# descriptions\n",
    "unique_values = {'column': ['total_samples'], \n",
    "                 'unique_values': [chocodata.shape[0]],\n",
    "                 'type': [type(chocodata.shape[0])],\n",
    "                 'description': ['Total number of samples in the dataset']}\n",
    "for c in columns:\n",
    "    unique_values['column'].append(c)\n",
    "    unique_values['unique_values'].append(len(chocodata_uniques[c]))\n",
    "    unique_values['type'].append(type(chocodata[c][0]))\n",
    "    unique_values['description'].append(column_descriptions[c])\n",
    "\n",
    "# Convert dictionary to DataFrame\n",
    "unique_values = pd.DataFrame(unique_values)\n",
    "unique_values"
   ],
   "metadata": {
    "colab": {
     "base_uri": "https://localhost:8080/"
    },
    "id": "M3hg0CvMFH1o",
    "outputId": "d7b6467c-e128-41d8-b5ee-d356b9328724"
   },
   "execution_count": null,
   "outputs": []
  },
  {
   "cell_type": "code",
   "source": [
    "# Print summary statistics of numerical attributes\n",
    "chocodata.describe()"
   ],
   "metadata": {
    "colab": {
     "base_uri": "https://localhost:8080/"
    },
    "id": "_2YgWyagOD6U",
    "outputId": "06b044c0-792c-4573-c144-79d438b68039"
   },
   "execution_count": null,
   "outputs": []
  },
  {
   "cell_type": "markdown",
   "source": [
    "## Ratings timeline\n",
    "\n",
    "In this section, we plot the ratings trend throughout the years, highlighting the rating counts.\n"
   ],
   "metadata": {
    "id": "G-uqfgnj-2rM"
   }
  },
  {
   "cell_type": "code",
   "source": [
    "fig, ax = plt.subplots(2, 1, figsize=(8, 10))\n",
    "fig.suptitle('Average bar ratings per year', y=0.94)\n",
    "\n",
    "palette = get_palette(len(chocodata['review_date'].unique()), ordered=True)\n",
    "sns.countplot(ax=ax[0], data=chocodata, x='review_date', palette=palette)\n",
    "annotate_with_counts(ax[0])\n",
    "rename_axes(ax[0], 'Year', 'Count')\n",
    "\n",
    "sns.boxplot(ax=ax[1], data=chocodata, x='review_date', y='rating', \n",
    "            palette=palette)\n",
    "rename_axes(ax[1], 'Year', 'Rating')\n",
    "\n",
    "plt.savefig('images/ratings_timeline.pdf', bbox_inches='tight')"
   ],
   "metadata": {
    "colab": {
     "base_uri": "https://localhost:8080/",
     "height": 654
    },
    "id": "NLOMXeoNDX6C",
    "outputId": "592537b6-76ae-4459-960d-7d8606298bfa"
   },
   "execution_count": null,
   "outputs": []
  },
  {
   "cell_type": "markdown",
   "source": [
    "## Companies\n",
    "\n",
    "In this section, we collect a set of visualizations concerning company ratings.\n"
   ],
   "metadata": {
    "id": "eJrxJPcK6ahZ"
   }
  },
  {
   "cell_type": "markdown",
   "source": [
    "### Map of companies in the dataset"
   ],
   "metadata": {
    "id": "JjEKlNV0Pe4c"
   }
  },
  {
   "cell_type": "code",
   "execution_count": null,
   "outputs": [],
   "source": [
    "# Import world map from geopandas\n",
    "world = geopandas.read_file(geopandas.datasets.get_path('naturalearth_lowres'))\n",
    "world['name'] = world['name'].str.lower()\n",
    "\n",
    "# Fix inconsistent name for ivory coast which uses non-ascii character\n",
    "world.loc[(world['name'] == \"côte d'ivoire\"), 'name'] = \"ivory coast\"\n",
    "\n",
    "# Merge company locations with world data and count companies per country\n",
    "merge = chocodata.merge(world, how='left', left_on=[\"company_location\"], right_on=[\"name\"])\n",
    "company_location_counts = merge.groupby([\"name\"]).size().reset_index(name='counts')\n",
    "\n",
    "# Initialize choropleth map\n",
    "map = folium.Map()\n",
    "folium.Choropleth(\n",
    "    geo_data=world,\n",
    "    name=\"chocochoco\",\n",
    "    data=company_location_counts,\n",
    "    columns=[\"name\", \"counts\"],\n",
    "    key_on=\"feature.properties.name\",\n",
    "    fill_color=\"YlGn\",\n",
    "    fill_opacity=0.7,\n",
    "    line_opacity=0.2,\n",
    "    legend_name=\"Chocolate making companies\",\n",
    ").add_to(map)\n",
    "\n",
    "# Show map\n",
    "display(map)"
   ],
   "metadata": {
    "collapsed": false,
    "pycharm": {
     "name": "#%%\n"
    }
   }
  },
  {
   "cell_type": "markdown",
   "source": [
    "### Companies per number of reviews\n"
   ],
   "metadata": {
    "collapsed": false,
    "pycharm": {
     "name": "#%% md\n"
    }
   }
  },
  {
   "cell_type": "code",
   "source": [
    "# Get a list of all the unique values of the company column\n",
    "companies = chocodata_uniques['company']\n",
    "\n",
    "# Get a list of all the unique values of the company_location column\n",
    "countries = chocodata_uniques['company_location']\n",
    "\n",
    "# Create a dictionary of the companies and their average evaluations\n",
    "d = {'company': [],\n",
    "     'avg_rating': [],\n",
    "     'std_dev': [],\n",
    "     'num_revs': []}\n",
    "\n",
    "# For each company save its average evaluation in a dataframe\n",
    "for c in companies:\n",
    "    company_data = chocodata[chocodata.company == c]\n",
    "    d['company'].append(c)\n",
    "    d['avg_rating'].append(company_data['rating'].mean())\n",
    "    d['std_dev'].append(company_data['rating'].std())\n",
    "    d['num_revs'].append(company_data['ref'].count())\n",
    "\n",
    "avg_companies = pd.DataFrame(d)\n",
    "\n",
    "fig, ax = plt.subplots(1, 1, figsize=(10, 6))\n",
    "fig.suptitle('Companies per number of reviews')\n",
    "ax.set_ylim((0, 140))\n",
    "palette = get_palette(len(avg_companies['num_revs'].unique()), ordered=True)\n",
    "sns.countplot(ax=ax, data=avg_companies, x='num_revs', palette=palette)\n",
    "annotate_with_counts(ax)\n",
    "rename_axes(ax, 'Reviews count', 'Companies count')\n",
    "\n",
    "plt.savefig('images/companies_per_number_of_reviews.pdf', bbox_inches='tight')"
   ],
   "metadata": {
    "id": "y_CRnYB26aqd",
    "colab": {
     "base_uri": "https://localhost:8080/",
     "height": 437
    },
    "outputId": "34ae5e78-26b6-463e-877c-9046094a0f30"
   },
   "execution_count": null,
   "outputs": []
  },
  {
   "cell_type": "markdown",
   "source": [
    "### Top-rated companies"
   ],
   "metadata": {
    "id": "H-1pz0MTZhBh"
   }
  },
  {
   "cell_type": "code",
   "source": [
    "# Drop all companies with less than N reviews\n",
    "MIN_NUM_OF_REVIEWS = 5\n",
    "\n",
    "# Plot the top-N companies\n",
    "TOP_COMPANIES = 10\n",
    "\n",
    "# Remove all the entries with too few bars\n",
    "avg_companies = avg_companies.drop(\n",
    "    avg_companies[avg_companies.num_revs < MIN_NUM_OF_REVIEWS].index)\n",
    "\n",
    "# Extract the ten better companies in term of average chocolate rating\n",
    "best_companies = avg_companies.nlargest(TOP_COMPANIES, \n",
    "                                        columns=['avg_rating'])\n",
    "\n",
    "# Plot them through a horizontal barplot\n",
    "fig, ax = plt.subplots(1, 1, figsize=(8, 5))\n",
    "fig.suptitle('Top-{} companies'.format(TOP_COMPANIES))\n",
    "palette = get_palette(len(best_companies), ordered=True, invert=True)\n",
    "ax = sns.barplot(data=best_companies, x='avg_rating', y='company', \n",
    "                 palette=palette)\n",
    "rename_axes(ax, 'Average rating', 'Company')\n",
    "ax.bar_label(ax.containers[0], fmt='%.2f')\n",
    "ax.set_xlim((3, 4))\n",
    "sns.despine()\n",
    "\n",
    "plt.savefig('images/top{}_companies.pdf'.format(TOP_COMPANIES), \n",
    "            bbox_inches='tight')"
   ],
   "metadata": {
    "colab": {
     "base_uri": "https://localhost:8080/",
     "height": 375
    },
    "id": "aGgko1yhqwNY",
    "outputId": "1b5917ba-7a88-4875-839f-3214218eb1d0"
   },
   "execution_count": null,
   "outputs": []
  },
  {
   "cell_type": "markdown",
   "source": [
    "### Best company per country"
   ],
   "metadata": {
    "id": "DqLLR_P-wY4p"
   }
  },
  {
   "cell_type": "code",
   "source": [
    "# Collect the best company for each country\n",
    "t = {'country': [],\n",
    "     'best_company': [],\n",
    "     'avg_rating': []}\n",
    "\n",
    "# For each country save its companies\n",
    "for c in countries:\n",
    "    companies_country = chocodata.loc[chocodata['company_location'] == c]\n",
    "    # Create a dataframe in which to save the companies and their average evaluations\n",
    "    d = {'company': [],\n",
    "         'avg_rating': []}\n",
    "    # For each company in country c, compute the average rating of its bars\n",
    "    for comp in companies_country.company:\n",
    "        # Compute the average rating for company comp of country c\n",
    "        company_data = companies_country[companies_country.company == comp]\n",
    "        d['company'].append(company_data['company'].values[0])\n",
    "        d['avg_rating'].append(company_data['rating'].mean())\n",
    "    avg_companies = pd.DataFrame(d)\n",
    "    # Extract the best company for country c\n",
    "    best_company = avg_companies.nlargest(1, ['avg_rating'])\n",
    "    # Insert the company in the dataframe\n",
    "    t['country'].append(c)\n",
    "    t['best_company'].append(best_company['company'].values[0])\n",
    "    t['avg_rating'].append(best_company['avg_rating'].values[0])\n",
    "\n",
    "loc_companies = pd.DataFrame(t)\n",
    "loc_companies = loc_companies.sort_values('country')\n",
    "\n",
    "loc_companies"
   ],
   "metadata": {
    "id": "JvrBSSq4wciD",
    "colab": {
     "base_uri": "https://localhost:8080/",
     "height": 1000
    },
    "outputId": "1a8ee1c3-d50f-4c25-8ca6-507e601b331d"
   },
   "execution_count": null,
   "outputs": []
  },
  {
   "cell_type": "markdown",
   "source": [
    "### Map of companies per country and best companies"
   ],
   "metadata": {
    "collapsed": false,
    "pycharm": {
     "name": "#%% md\n"
    }
   }
  },
  {
   "cell_type": "code",
   "execution_count": null,
   "outputs": [],
   "source": [
    "# Changes matplotlib backend to prevent outputting all the figures\n",
    "%matplotlib agg\n",
    "%matplotlib agg\n",
    "\n",
    "# Create a dataframe in which to save the best companies for each country\n",
    "d = {'country': [],\n",
    "     'best_company': [],\n",
    "     'avg_rating': []}\n",
    "loc_companies = pd.DataFrame(d)\n",
    "\n",
    "# Create a dataframe to save the average rating of all bars of a country\n",
    "d = {'country': [],\n",
    "     'avg_rating': []}\n",
    "country_avg_ratings = pd.DataFrame(d)\n",
    "\n",
    "# Foreach country save its best companies\n",
    "lines = []\n",
    "txtfile = open(os.path.join(os.getcwd(), \"./images/best_companies_by_country/iminfo.txt\"), 'w')\n",
    "for c in countries:\n",
    "    companies_country = chocodata.loc[chocodata['company_location'] == c]\n",
    "    mean_country_rating = companies_country['rating'].mean()\n",
    "    d = {'country': [c], 'avg_rating': [mean_country_rating]}\n",
    "    avg_country = pd.DataFrame(d)\n",
    "    tmp = [country_avg_ratings, avg_country]\n",
    "    country_avg_ratings = pd.concat(tmp)\n",
    "\n",
    "    # Create a dataframe in which to save the companies and their average evaluations\n",
    "    d = {'company': [], 'avg_rating': []}\n",
    "    avg_companies = pd.DataFrame(d)\n",
    "\n",
    "    # Foreach company in country c, compute the average rating of its bars\n",
    "    for comp in pd.unique(companies_country.company):\n",
    "        company = companies_country[companies_country.company == comp]\n",
    "        mean_rating = company['rating'].mean()\n",
    "\n",
    "        # Insert that company and its average rating inside the avg_companies dataframe\n",
    "        d = pd.DataFrame(\n",
    "            {'company': [comp],\n",
    "             'avg_rating': [mean_rating]})\n",
    "        tmp = [avg_companies, d]\n",
    "        avg_companies = pd.concat(tmp)\n",
    "\n",
    "    # Extract the top three companies for country c\n",
    "    n_companies = 3\n",
    "    best_company = avg_companies.nlargest(n_companies, ['avg_rating'])\n",
    "\n",
    "    # Insert the company in the dataframe\n",
    "    actual_n_companies = np.shape(best_company['company'].values)[0]\n",
    "    country_rep_list = [c]*actual_n_companies\n",
    "    company_list = best_company['company'].values\n",
    "    rating_list = best_company['avg_rating'].values\n",
    "    d = pd.DataFrame(\n",
    "        {'country': country_rep_list,\n",
    "         'best_company': company_list,\n",
    "         'avg_rating': rating_list})\n",
    "    tmp = [loc_companies, d]\n",
    "    loc_companies = pd.concat(tmp, ignore_index=True)\n",
    "\n",
    "    # Create a figure for each country to be used as a tooltip in the map\n",
    "    sns.set(font_scale = 4)\n",
    "    _, axes = plt.subplots(actual_n_companies, 1, figsize=(5,5*actual_n_companies))\n",
    "    for i in range(actual_n_companies):\n",
    "        company = companies_country[companies_country.company == company_list[i]]\n",
    "        ax = sns.boxplot(ax=(axes[i] if actual_n_companies>1 else axes),y=company['company'], x=company['rating'], linewidth=2.5)\n",
    "        ax.set(ylabel=None)\n",
    "\n",
    "    # Save the figures in the images folder\n",
    "    tosave = ax.get_figure()\n",
    "    tosave.savefig(os.path.join(os.getcwd(), \"./images/best_companies_by_country/\"+country_rep_list[0]+\".png\"), bbox_inches = 'tight')\n",
    "    im = Image.open(os.path.join(os.getcwd(), \"./images/best_companies_by_country/\"+country_rep_list[0]+\".png\"))\n",
    "    lines.append(country_rep_list[0]+\",\"+str(im.size[0])+\",\"+str(im.size[1])+\"\\n\")\n",
    "\n",
    "# Save the helper file that will be used to build the html\n",
    "txtfile.writelines(lines)\n",
    "txtfile.close()\n",
    "loc_companies.set_index('country')\n",
    "loc_companies.sort_values('country')\n",
    "sns.set(font_scale = 1)\n",
    "%matplotlib inline\n",
    "\n",
    "# Merge world data with the best companies data\n",
    "merge = country_avg_ratings.merge(world, how='left', left_on=[\"country\"], right_on=[\"name\"])\n",
    "\n",
    "# Initialize choropleth map\n",
    "map = folium.Map(location=[48, -102], zoom_start=1)\n",
    "cp = folium.Choropleth(\n",
    "    geo_data=world,\n",
    "    name=\"chocochoco\",\n",
    "    data=merge,\n",
    "    columns=[\"name\", \"avg_rating\"],\n",
    "    key_on=\"feature.properties.name\",\n",
    "    fill_color=\"YlGn\",\n",
    "    fill_opacity=0.7,\n",
    "    line_opacity=0.2,\n",
    "    legend_name=\"Mean chocolate ratings by country and best companies\",\n",
    ").add_to(map)\n",
    "\n",
    "# Add popups to the map\n",
    "for s in cp.geojson.data['features']:\n",
    "    s['properties']['popup_html'] = html_country(s['properties']['name'])\n",
    "\n",
    "folium.GeoJsonPopup(fields=['popup_html'], labels=False).add_to(cp.geojson)\n",
    "folium.LayerControl().add_to(map)\n",
    "\n",
    "# Show map\n",
    "display(map)"
   ],
   "metadata": {
    "collapsed": false,
    "pycharm": {
     "name": "#%%\n"
    }
   }
  },
  {
   "cell_type": "markdown",
   "source": [
    "## Cocoa beans\n",
    "\n",
    "In this section, we collect a set of visualizations concerning cocoa beans ratings and cocoa percentage ratings. "
   ],
   "metadata": {
    "id": "aQ3Qfw3YNYov"
   }
  },
  {
   "cell_type": "markdown",
   "source": [
    "### Bean types distribution"
   ],
   "metadata": {
    "id": "s0Dgo0zbnD9i"
   }
  },
  {
   "cell_type": "code",
   "source": [
    "# Generate a new dataframe containing bean counts\n",
    "chocodata_beans = chocodata.sort_values(by='bean_type')\n",
    "bean_counts = chocodata_beans.groupby('bean_type').size().reset_index(\n",
    "    name='counts')\n",
    "\n",
    "fig, ax = plt.subplots(1, 1, figsize=[8, 10])\n",
    "plt.pie(x=bean_counts['counts'], \n",
    "        autopct=\"%.1f%%\", \n",
    "        labels=bean_counts['bean_type'],\n",
    "        colors=get_palette(4))\n",
    "fig.suptitle(\"Bean types distribution\", y=0.85)\n",
    "\n",
    "plt.savefig('images/bean_types_distribution.pdf', bbox_inches='tight')"
   ],
   "metadata": {
    "colab": {
     "base_uri": "https://localhost:8080/",
     "height": 504
    },
    "id": "km99zaNFoJGO",
    "outputId": "f8616d15-255e-42f0-f860-fb472e4e9498"
   },
   "execution_count": null,
   "outputs": []
  },
  {
   "cell_type": "markdown",
   "source": [
    "### Ratings per bean type\n"
   ],
   "metadata": {
    "id": "N6URES9vnD_6"
   }
  },
  {
   "cell_type": "code",
   "source": [
    "fig, ax = plt.subplots(1, 1, figsize=(8, 5))\n",
    "fig.suptitle('Ratings per bean type')\n",
    "sns.boxplot(ax=ax, \n",
    "            data=chocodata_beans, \n",
    "            x='bean_type', \n",
    "            y='rating', \n",
    "            palette=get_palette(4))\n",
    "rename_axes(ax, 'Bean type', 'Rating')\n",
    "\n",
    "plt.savefig('images/ratings_per_bean_type.pdf', bbox_inches='tight')"
   ],
   "metadata": {
    "colab": {
     "base_uri": "https://localhost:8080/",
     "height": 375
    },
    "id": "cmzRYW98FWH-",
    "outputId": "cf544d51-52a9-432d-8320-4d607984a3c5"
   },
   "execution_count": null,
   "outputs": []
  },
  {
   "cell_type": "markdown",
   "source": [
    "### Ratings per cocoa percent"
   ],
   "metadata": {
    "id": "5m-1s0lonECO"
   }
  },
  {
   "cell_type": "code",
   "source": [
    "# Control the aggregation precision\n",
    "STEP = 0.05\n",
    "assert STEP >= 0.05, \"Aggregation too thin!\"\n",
    "\n",
    "# Define a new dataframe with aggregated percentages\n",
    "percentages = np.arange(0.4, 1.0 + STEP * 0.5, STEP)\n",
    "d = {'perc': [], 'rating': []}\n",
    "for bar in chocodata.iterrows():\n",
    "    bar = bar[1]\n",
    "    for p in percentages:\n",
    "        if p <= bar['cocoa_percent'] < p + STEP:\n",
    "            d['perc'].append(p)\n",
    "            d['rating'].append(bar['rating'])\n",
    "perc_ratings = pd.DataFrame(d)\n",
    "\n",
    "\n",
    "fig, ax = plt.subplots(2, 1, figsize=(8, 10))\n",
    "fig.suptitle('Ratings per cocoa percent', y=0.94)\n",
    "palette = get_palette(len(percentages), ordered=True)\n",
    "\n",
    "sns.countplot(ax=ax[0], data=perc_ratings, x='perc', palette=palette)\n",
    "annotate_with_counts(ax[0])\n",
    "rename_axes(ax[0], 'Cocoa percent', 'Number of reviews')\n",
    "ax[0].set_xticklabels([str(i) + '%' for i in range(40, 101, int(STEP * 100))])\n",
    "ax[0].set_ylim((0, 1000))\n",
    "\n",
    "sns.pointplot(ax=ax[1], \n",
    "              data=perc_ratings,\n",
    "              x='perc', \n",
    "              y='rating',\n",
    "              palette=palette)\n",
    "ax[1].set_ylim((1, 5))\n",
    "ax[1].set_xticklabels([str(i) + '%' for i in range(40, 101, int(STEP * 100))])\n",
    "rename_axes(ax[1], 'Cocoa percent', 'Rating')\n",
    "\n",
    "plt.savefig('images/ratings_per_cocoa_percent.pdf', bbox_inches='tight')"
   ],
   "metadata": {
    "colab": {
     "base_uri": "https://localhost:8080/",
     "height": 654
    },
    "id": "aLm92TN7Dl_D",
    "outputId": "1c87c58d-8056-4966-e142-4f38a8a3a055"
   },
   "execution_count": null,
   "outputs": []
  },
  {
   "cell_type": "markdown",
   "source": [
    "### Bean type and cocoa percent"
   ],
   "metadata": {
    "id": "zpveSJXYnEE0"
   }
  },
  {
   "cell_type": "code",
   "source": [
    "hue_order = ['Criollo', 'Forastero', 'Trinitario']\n",
    "g = sns.jointplot(data=chocodata[chocodata['bean_type'] != 'Unknown'], \n",
    "                  x='cocoa_percent', \n",
    "                  y='rating', \n",
    "                  hue='bean_type', \n",
    "                  hue_order=hue_order,\n",
    "                  palette=get_palette(3),\n",
    "                  height=10)\n",
    "g.ax_joint.set_xlim([0.4, 1.01])\n",
    "g.ax_joint.set_ylim([0.93, 5.05])\n",
    "g.ax_joint.legend(loc='upper left')\n",
    "g.ax_joint.set_xticklabels([str(i) + '%' for i in range(40, 101, 10)])\n",
    "g.fig.suptitle('Cocoa percent per bar rating', y=1.04)\n",
    "rename_axes(g.ax_joint, 'Cocoa percent', 'Rating')\n",
    "\n",
    "plt.savefig('images/bean_type_and_cocoa_percent.pdf', bbox_inches='tight')"
   ],
   "metadata": {
    "id": "Pc-_H9btdtG_",
    "colab": {
     "base_uri": "https://localhost:8080/",
     "height": 803
    },
    "outputId": "79a91b25-524d-45b0-ce14-fe1e40e24096"
   },
   "execution_count": null,
   "outputs": []
  },
  {
   "cell_type": "markdown",
   "source": [
    "### Top-rated bean exporters"
   ],
   "metadata": {
    "id": "imSnfy4znQgW"
   }
  },
  {
   "cell_type": "code",
   "source": [
    "# Drop all countries with less than N reviews\n",
    "MIN_NUM_OF_REVIEWS = 10\n",
    "\n",
    "# Plot the top-N countries\n",
    "TOP_COUNTRIES = 10\n",
    "\n",
    "# Get a list of all the unique cocoa bean origins\n",
    "b_origins = chocodata_uniques['bean_origin']\n",
    "\n",
    "# Create the dictionary with the average grades with respect to the bean origin\n",
    "d = {'bean_origin': [],\n",
    "      'avg_rating': [],\n",
    "      'num_revs':[]}\n",
    "\n",
    "# Forveach bean type, compute its average evaluation\n",
    "for o in b_origins:\n",
    "    origin_data = chocodata[chocodata.bean_origin == o]\n",
    "    d['bean_origin'].append(o)\n",
    "    d['avg_rating'].append(origin_data['rating'].mean())\n",
    "    d['num_revs'].append(origin_data['ref'].count())\n",
    "\n",
    "# Convert the dictionary into a DataFrame\n",
    "avg_bean_origin = pd.DataFrame(d)\n",
    "\n",
    "# Remove all the grades linked to an unknown bean type\n",
    "avg_bean_origin = avg_bean_origin[avg_bean_origin.bean_origin != 'Unknown']\n",
    "\n",
    "# Remove all the entries with too few bars\n",
    "avg_bean_origin = avg_bean_origin.drop(\n",
    "    avg_bean_origin[avg_bean_origin.num_revs < MIN_NUM_OF_REVIEWS].index)\n",
    "\n",
    "# Extract the 10 better bean types, in terms of average rating\n",
    "best_countries = avg_bean_origin.nlargest(TOP_COUNTRIES, columns=['avg_rating'])\n",
    "\n",
    "fig, ax = plt.subplots(1, 1, figsize=(8, 5))\n",
    "fig.suptitle('Top-{} bean exporters'.format(TOP_COUNTRIES))\n",
    "palette = get_palette(len(best_countries), ordered=True, invert=True)\n",
    "ax = sns.barplot(data=best_countries, \n",
    "                 x='avg_rating', \n",
    "                 y='bean_origin', \n",
    "                 palette=palette)\n",
    "rename_axes(ax, 'Average rating', 'Bean origin')\n",
    "ax.bar_label(ax.containers[0], fmt='%.2f')\n",
    "ax.set_xlim((3, 3.6))\n",
    "sns.despine()\n",
    "\n",
    "plt.savefig('images/top{}_bean_exporters.pdf'.format(TOP_COUNTRIES), \n",
    "            bbox_inches='tight')"
   ],
   "metadata": {
    "id": "bgS6f2f0UXeZ",
    "colab": {
     "base_uri": "https://localhost:8080/",
     "height": 375
    },
    "outputId": "cdeae4da-ae02-4a7d-a6ad-555baa8143ea"
   },
   "execution_count": null,
   "outputs": []
  },
  {
   "cell_type": "markdown",
   "source": [
    "# TODO: check"
   ],
   "metadata": {
    "id": "LGVTILyzdojM"
   }
  },
  {
   "cell_type": "code",
   "source": [
    "# Get a list of all the unique cocoa bean types\n",
    "beans = chocodata_uniques['bean_type']\n",
    "\n",
    "# Create the dictionary that saves the average grade with respect to the \n",
    "# cocoa bean type\n",
    "d = {'bean_type': [],\n",
    "     'avg_rating': [],\n",
    "     'num_bars': [],\n",
    "     'std_err': []}\n",
    "\n",
    "for b in beans:\n",
    "    beans_data = chocodata[chocodata.bean_type == b]\n",
    "    d['bean_type'].append(b)\n",
    "    d['avg_rating'].append(beans_data['rating'].mean())\n",
    "    d['num_bars'].append(beans_data['ref'].count())\n",
    "    d['std_err'].append(beans_data['rating'].std)\n",
    "\n",
    "# convert the dictionary into a DataFrame\n",
    "avg_bean_type = pd.DataFrame(d)\n",
    "avg_bean_type = avg_bean_type[avg_bean_type['bean_type'] != 'Unknown']\n",
    "\n",
    "# Order the DataFrame by the average rating\n",
    "avg_bean_type = avg_bean_type.sort_values(by='avg_rating', ascending=False)\n",
    "\n",
    "# Compute the minimum and the maximum rating in the DataFrame\n",
    "min_x = avg_bean_type['avg_rating'].min()\n",
    "max_x = avg_bean_type['avg_rating'].max()\n",
    "\n",
    "# Plot them through a horizontal barplot\n",
    "ax = sns.barplot(data=avg_bean_type, x='avg_rating', y='bean_type',\n",
    "                palette=get_palette(3))\n",
    "ax.set(xlabel='Average Bar Rating', ylabel='Bean Type')\n",
    "ax.bar_label(ax.containers[0], fmt='%.2f')\n",
    "ax.set(xlim=(min_x-0.1, max_x))\n",
    "sns.despine()\n",
    "\n",
    "plt.suptitle('Bran types scoreboard')\n",
    "#plt.savefig('images/best_beanTypes.pdf', bbox_inches='tight')"
   ],
   "metadata": {
    "colab": {
     "base_uri": "https://localhost:8080/",
     "height": 332
    },
    "id": "UwYH6HSiOxbY",
    "outputId": "bc65311b-7fbf-4c31-e621-b20a197f362b"
   },
   "execution_count": null,
   "outputs": []
  }
 ]
}